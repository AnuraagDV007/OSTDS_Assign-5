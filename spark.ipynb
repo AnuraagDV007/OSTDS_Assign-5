{
 "cells": [
  {
   "cell_type": "markdown",
   "id": "4600b63a",
   "metadata": {},
   "source": [
    "## Apache Spark"
   ]
  },
  {
   "cell_type": "code",
   "execution_count": 1,
   "id": "4248fecd",
   "metadata": {},
   "outputs": [
    {
     "name": "stdout",
     "output_type": "stream",
     "text": [
      "Spark session started.\n"
     ]
    }
   ],
   "source": [
    "from pyspark.sql import SparkSession\n",
    "\n",
    "# Initialize Spark session\n",
    "spark = SparkSession.builder \\\n",
    "    .appName(\"Retail Sales Analysis\") \\\n",
    "    .getOrCreate()\n",
    "\n",
    "print(\"Spark session started.\")"
   ]
  },
  {
   "cell_type": "code",
   "execution_count": 2,
   "id": "6f27718d",
   "metadata": {},
   "outputs": [
    {
     "name": "stdout",
     "output_type": "stream",
     "text": [
      "c:\\Users\\anura\\OneDrive\\Desktop\\OSTDS_Assign5\n"
     ]
    }
   ],
   "source": [
    "import os\n",
    "\n",
    "print(os.getcwd())  # shows your current working directory"
   ]
  },
  {
   "cell_type": "code",
   "execution_count": 3,
   "id": "2804f676",
   "metadata": {},
   "outputs": [
    {
     "name": "stdout",
     "output_type": "stream",
     "text": [
      "+--------------+----------+-----------+------+---+----------------+--------+--------------+------------+\n",
      "|Transaction ID|      Date|Customer ID|Gender|Age|Product Category|Quantity|Price per Unit|Total Amount|\n",
      "+--------------+----------+-----------+------+---+----------------+--------+--------------+------------+\n",
      "|             1|2023-11-24|    CUST001|  Male| 34|          Beauty|       3|            50|         150|\n",
      "|             2|2023-02-27|    CUST002|Female| 26|        Clothing|       2|           500|        1000|\n",
      "|             3|2023-01-13|    CUST003|  Male| 50|     Electronics|       1|            30|          30|\n",
      "|             4|2023-05-21|    CUST004|  Male| 37|        Clothing|       1|           500|         500|\n",
      "|             5|2023-05-06|    CUST005|  Male| 30|          Beauty|       2|            50|         100|\n",
      "+--------------+----------+-----------+------+---+----------------+--------+--------------+------------+\n",
      "only showing top 5 rows\n",
      "\n",
      "root\n",
      " |-- Transaction ID: integer (nullable = true)\n",
      " |-- Date: date (nullable = true)\n",
      " |-- Customer ID: string (nullable = true)\n",
      " |-- Gender: string (nullable = true)\n",
      " |-- Age: integer (nullable = true)\n",
      " |-- Product Category: string (nullable = true)\n",
      " |-- Quantity: integer (nullable = true)\n",
      " |-- Price per Unit: integer (nullable = true)\n",
      " |-- Total Amount: integer (nullable = true)\n",
      "\n"
     ]
    }
   ],
   "source": [
    "# Load the CSV data\n",
    "df = spark.read.csv(r\"C:\\Users\\anura\\OneDrive\\Desktop\\OSTDS_Assign5\\retail_sales_dataset.csv\",header=True, inferSchema=True)\n",
    "\n",
    "# Display the first few records\n",
    "df.show(5)\n",
    "df.printSchema()\n"
   ]
  },
  {
   "cell_type": "code",
   "execution_count": 4,
   "id": "e44ce94b",
   "metadata": {},
   "outputs": [
    {
     "name": "stdout",
     "output_type": "stream",
     "text": [
      "+--------------+----------+-----------+------+---+----------------+--------+--------------+------------+\n",
      "|Transaction ID|      Date|Customer ID|Gender|Age|Product Category|Quantity|Price per Unit|Total Amount|\n",
      "+--------------+----------+-----------+------+---+----------------+--------+--------------+------------+\n",
      "|            33|2023-03-23|    CUST033|Female| 50|     Electronics|       2|            50|       100.0|\n",
      "|           538|2023-09-17|    CUST538|  Male| 18|        Clothing|       3|            50|       150.0|\n",
      "|            28|2023-04-23|    CUST028|Female| 43|          Beauty|       1|           500|       500.0|\n",
      "|            75|2023-07-06|    CUST075|  Male| 61|          Beauty|       4|            50|       200.0|\n",
      "|           108|2023-04-19|    CUST108|Female| 27|          Beauty|       3|            25|        75.0|\n",
      "+--------------+----------+-----------+------+---+----------------+--------+--------------+------------+\n",
      "only showing top 5 rows\n",
      "\n"
     ]
    }
   ],
   "source": [
    "from pyspark.sql.functions import col\n",
    "\n",
    "# Remove duplicate rows\n",
    "df = df.dropDuplicates()\n",
    "\n",
    "# Drop rows with essential missing values\n",
    "df = df.na.drop(subset=[\"Transaction ID\", \"Product Category\", \"Quantity\", \"Total Amount\"])\n",
    "\n",
    "# Convert column types if needed\n",
    "df = df.withColumn(\"Quantity\", col(\"Quantity\").cast(\"int\"))\n",
    "df = df.withColumn(\"Total Amount\", col(\"Total Amount\").cast(\"double\"))\n",
    "\n",
    "# Check cleaned data\n",
    "df.show(5)"
   ]
  },
  {
   "cell_type": "code",
   "execution_count": 5,
   "id": "c22fc44d",
   "metadata": {},
   "outputs": [],
   "source": [
    "# Create temporary view to use Spark SQL\n",
    "df.createOrReplaceTempView(\"sales\")\n"
   ]
  },
  {
   "cell_type": "code",
   "execution_count": 6,
   "id": "a06c6a4c",
   "metadata": {},
   "outputs": [
    {
     "name": "stdout",
     "output_type": "stream",
     "text": [
      "+----------------+-----------+\n",
      "|Product Category|Total_Sales|\n",
      "+----------------+-----------+\n",
      "|     Electronics|   156905.0|\n",
      "|        Clothing|   155580.0|\n",
      "|          Beauty|   143515.0|\n",
      "+----------------+-----------+\n",
      "\n"
     ]
    }
   ],
   "source": [
    "#sales per product\n",
    "sales_per_product = spark.sql(\"\"\"\n",
    "    SELECT `Product Category`, SUM(`Total Amount`) AS Total_Sales\n",
    "    FROM sales\n",
    "    GROUP BY `Product Category`\n",
    "    ORDER BY Total_Sales DESC\n",
    "\"\"\")\n",
    "sales_per_product.show()\n"
   ]
  },
  {
   "cell_type": "code",
   "execution_count": 7,
   "id": "a9730403",
   "metadata": {},
   "outputs": [
    {
     "name": "stdout",
     "output_type": "stream",
     "text": [
      "+------+-----------+\n",
      "|Gender|Total_Sales|\n",
      "+------+-----------+\n",
      "|Female|   232840.0|\n",
      "|  Male|   223160.0|\n",
      "+------+-----------+\n",
      "\n"
     ]
    }
   ],
   "source": [
    "#sales by gender\n",
    "sales_per_gender = spark.sql(\"\"\"\n",
    "    SELECT Gender, SUM(`Total Amount`) AS Total_Sales\n",
    "    FROM sales\n",
    "    GROUP BY Gender\n",
    "    ORDER BY Total_Sales DESC\n",
    "\"\"\")\n",
    "sales_per_gender.show()\n"
   ]
  },
  {
   "cell_type": "code",
   "execution_count": 8,
   "id": "cd0f667e",
   "metadata": {},
   "outputs": [
    {
     "name": "stdout",
     "output_type": "stream",
     "text": [
      "+-----------+--------------+\n",
      "|Customer ID|Customer_Value|\n",
      "+-----------+--------------+\n",
      "|    CUST412|        2000.0|\n",
      "|    CUST595|        2000.0|\n",
      "|    CUST093|        2000.0|\n",
      "|    CUST946|        2000.0|\n",
      "|    CUST743|        2000.0|\n",
      "|    CUST269|        2000.0|\n",
      "|    CUST832|        2000.0|\n",
      "|    CUST476|        2000.0|\n",
      "|    CUST875|        2000.0|\n",
      "|    CUST487|        2000.0|\n",
      "+-----------+--------------+\n",
      "\n"
     ]
    }
   ],
   "source": [
    "top_customers = spark.sql(\"\"\"\n",
    "    SELECT `Customer ID`, SUM(`Total Amount`) AS Customer_Value\n",
    "    FROM sales\n",
    "    GROUP BY `Customer ID`\n",
    "    ORDER BY Customer_Value DESC\n",
    "    LIMIT 10\n",
    "\"\"\")\n",
    "top_customers.show()\n"
   ]
  },
  {
   "cell_type": "code",
   "execution_count": 9,
   "id": "2c74f905",
   "metadata": {},
   "outputs": [],
   "source": [
    "# Convert Spark DataFrame to Pandas for plotting\n",
    "pdf_products = sales_per_product.toPandas()\n",
    "pdf_stores = sales_per_gender.toPandas()\n"
   ]
  },
  {
   "cell_type": "code",
   "execution_count": 10,
   "id": "a75c108f",
   "metadata": {},
   "outputs": [
    {
     "data": {
      "image/png": "[encoded data removed]",
      "text/plain": [
       "<Figure size 1000x600 with 1 Axes>"
      ]
     },
     "metadata": {},
     "output_type": "display_data"
    }
   ],
   "source": [
    "import matplotlib.pyplot as plt\n",
    "\n",
    "plt.figure(figsize=(10,6))\n",
    "plt.bar(pdf_products['Product Category'], pdf_products['Total_Sales'], color='skyblue')\n",
    "plt.title(\"Total Sales by Product Category\")\n",
    "plt.xticks(rotation=45)\n",
    "plt.xlabel(\"Product Category\")\n",
    "plt.ylabel(\"Total Sales\")\n",
    "plt.tight_layout()\n",
    "plt.show()\n"
   ]
  },
  {
   "cell_type": "code",
   "execution_count": 11,
   "id": "d2684457",
   "metadata": {},
   "outputs": [
    {
     "data": {
      "text/plain": [
       "1000"
      ]
     },
     "execution_count": 11,
     "metadata": {},
     "output_type": "execute_result"
    }
   ],
   "source": [
    "# Cache the cleaned DataFrame to speed up reuse\n",
    "df.cache()\n",
    "\n",
    "# Repartition the data by Store_ID to optimize transformations\n",
    "df = df.repartition(\"Customer ID\")\n",
    "\n",
    "# Confirm cache\n",
    "df.count()\n"
   ]
  },
  {
   "cell_type": "markdown",
   "id": "9455c4c8",
   "metadata": {},
   "source": [
    "### 📊 Summary Report\n",
    "\n",
    "#### 🔍 Key Insights:\n",
    "- **Top-Selling Product Categories**: [Your observation from plots]\n",
    "- **Top-Performing Stores**: [Observation]\n",
    "- **Most Valuable Customers**: [Observation]\n",
    "\n",
    "#### 📈 Trends Observed:\n",
    "- Include monthly or seasonal sales trends if analyzed.\n",
    "\n",
    "#### ✅ Recommendations:\n",
    "- Increase stock for high-performing products.\n",
    "- Tailor promotions for top customer segments.\n",
    "- Focus marketing on stores with lower sales for improvement.\n",
    "\n",
    "#### ⚙️ Optimization:\n",
    "- Applied data caching and repartitioning.\n",
    "- Achieved faster execution on repetitive queries.\n",
    "\n"
   ]
  }
 ],
 "metadata": {
  "kernelspec": {
   "display_name": "Python 3",
   "language": "python",
   "name": "python3"
  },
  "language_info": {
   "codemirror_mode": {
    "name": "ipython",
    "version": 3
   },
   "file_extension": ".py",
   "mimetype": "text/x-python",
   "name": "python",
   "nbconvert_exporter": "python",
   "pygments_lexer": "ipython3",
   "version": "3.11.9"
  }
 },
 "nbformat": 4,
 "nbformat_minor": 5
}
